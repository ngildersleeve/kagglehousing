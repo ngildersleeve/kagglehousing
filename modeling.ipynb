{
 "cells": [
  {
   "cell_type": "code",
   "execution_count": 3,
   "id": "d48cf52c-e84d-4275-a8db-e4172808af42",
   "metadata": {
    "execution": {
     "iopub.execute_input": "2025-07-09T17:03:31.318916Z",
     "iopub.status.busy": "2025-07-09T17:03:31.318145Z",
     "iopub.status.idle": "2025-07-09T17:03:31.393957Z",
     "shell.execute_reply": "2025-07-09T17:03:31.393244Z",
     "shell.execute_reply.started": "2025-07-09T17:03:31.318886Z"
    }
   },
   "outputs": [],
   "source": [
    "import pandas as pd\n",
    "from sklearn.model_selection import train_test_split\n",
    "from sklearn.metrics import r2_score\n",
    "from xgboost import XGBRegressor\n",
    "from sklearn.pipeline import Pipeline\n",
    "\n",
    "from preprocess import preprocessor, feature_selector  # your pre-built transformer\n",
    "\n",
    "# 1. Load data\n",
    "df = pd.read_csv(\"train.csv\")\n",
    "X = df.drop(\"SalePrice\", axis=1)\n",
    "y = df[\"SalePrice\"]\n",
    "\n",
    "# 2. Split\n",
    "X_train, X_test, y_train, y_test = train_test_split(X, y, test_size=0.2, random_state=42)\n"
   ]
  },
  {
   "cell_type": "code",
   "execution_count": 1,
   "id": "1642a992-baac-479b-a7dc-3ee32c17498e",
   "metadata": {
    "execution": {
     "iopub.execute_input": "2025-07-09T17:03:17.212112Z",
     "iopub.status.busy": "2025-07-09T17:03:17.210935Z",
     "iopub.status.idle": "2025-07-09T17:03:19.426315Z",
     "shell.execute_reply": "2025-07-09T17:03:19.425452Z",
     "shell.execute_reply.started": "2025-07-09T17:03:17.212066Z"
    }
   },
   "outputs": [],
   "source": [
    "!pip install --upgrade scikit-learn --quiet"
   ]
  },
  {
   "cell_type": "code",
   "execution_count": 4,
   "id": "fa339b39-b261-4cc2-a66c-8b3006b0609b",
   "metadata": {
    "execution": {
     "iopub.execute_input": "2025-07-09T17:03:35.666165Z",
     "iopub.status.busy": "2025-07-09T17:03:35.665879Z",
     "iopub.status.idle": "2025-07-09T17:03:35.749037Z",
     "shell.execute_reply": "2025-07-09T17:03:35.748300Z",
     "shell.execute_reply.started": "2025-07-09T17:03:35.666145Z"
    }
   },
   "outputs": [
    {
     "name": "stdout",
     "output_type": "stream",
     "text": [
      "Train R^2: 0.768323532388255\n"
     ]
    }
   ],
   "source": [
    "from sklearn.linear_model import LinearRegression, RidgeCV\n",
    "from sklearn.ensemble import RandomForestRegressor\n",
    "from xgboost import XGBRegressor\n",
    "\n",
    "# Example: Linear Regression Pipeline\n",
    "linreg_pipeline = Pipeline([\n",
    "    ('feature_select', feature_selector),\n",
    "    ('preprocess', preprocessor),\n",
    "    ('model', LinearRegression())\n",
    "])\n",
    "\n",
    "# Fit and evaluate\n",
    "linreg_pipeline.fit(X_train, y_train)\n",
    "print(f\"Train R^2: {linreg_pipeline.score(X_train, y_train)}\")"
   ]
  },
  {
   "cell_type": "code",
   "execution_count": 5,
   "id": "4601f165-22e3-4fe7-9217-fb89cb71a2fb",
   "metadata": {
    "execution": {
     "iopub.execute_input": "2025-07-09T17:03:37.314045Z",
     "iopub.status.busy": "2025-07-09T17:03:37.313732Z",
     "iopub.status.idle": "2025-07-09T17:03:37.452190Z",
     "shell.execute_reply": "2025-07-09T17:03:37.450880Z",
     "shell.execute_reply.started": "2025-07-09T17:03:37.314020Z"
    }
   },
   "outputs": [
    {
     "name": "stdout",
     "output_type": "stream",
     "text": [
      "Train R^2: 0.9361377954483032\n"
     ]
    }
   ],
   "source": [
    "# Example: Linear Regression Pipeline\n",
    "xgb_pipeline = Pipeline([\n",
    "    ('feature_select', feature_selector),\n",
    "    ('preprocess', preprocessor),\n",
    "    ('model', XGBRegressor())\n",
    "])\n",
    "\n",
    "# Fit and evaluate\n",
    "xgb_pipeline.fit(X_train, y_train)\n",
    "y_pred = xgb_pipeline.predict(X_test)\n",
    "print(f\"Train R^2: {xgb_pipeline.score(X_train, y_train)}\")"
   ]
  },
  {
   "cell_type": "code",
   "execution_count": 6,
   "id": "a4564cd8-d412-4d2b-ac53-d5fb67dc3c6c",
   "metadata": {
    "execution": {
     "iopub.execute_input": "2025-07-09T17:03:39.605986Z",
     "iopub.status.busy": "2025-07-09T17:03:39.605699Z",
     "iopub.status.idle": "2025-07-09T17:03:39.621276Z",
     "shell.execute_reply": "2025-07-09T17:03:39.620540Z",
     "shell.execute_reply.started": "2025-07-09T17:03:39.605963Z"
    }
   },
   "outputs": [
    {
     "name": "stdout",
     "output_type": "stream",
     "text": [
      "Test R²: 0.8149953484535217\n"
     ]
    }
   ],
   "source": [
    "print(\"Test R²:\", xgb_pipeline.score(X_test, y_test))"
   ]
  },
  {
   "cell_type": "code",
   "execution_count": 7,
   "id": "26fb1438-9b16-49a7-a906-9c77820ff53f",
   "metadata": {
    "execution": {
     "iopub.execute_input": "2025-07-09T17:03:40.236164Z",
     "iopub.status.busy": "2025-07-09T17:03:40.235604Z",
     "iopub.status.idle": "2025-07-09T17:03:49.136547Z",
     "shell.execute_reply": "2025-07-09T17:03:49.135838Z",
     "shell.execute_reply.started": "2025-07-09T17:03:40.236138Z"
    },
    "scrolled": true
   },
   "outputs": [
    {
     "name": "stdout",
     "output_type": "stream",
     "text": [
      "Fitting 5 folds for each of 18 candidates, totalling 90 fits\n"
     ]
    }
   ],
   "source": [
    "from sklearn.model_selection import GridSearchCV\n",
    "\n",
    "param_grid_xgb = {\n",
    "    'model__n_estimators': [100, 200],\n",
    "    'model__max_depth': [3, 5, 7],\n",
    "    'model__learning_rate': [0.01, 0.1, 0.2]\n",
    "}\n",
    "\n",
    "grid_search_xgb = GridSearchCV(\n",
    "    xgb_pipeline,             # your full pipeline with preprocessing\n",
    "    param_grid_xgb,\n",
    "    cv=5,\n",
    "    scoring='neg_root_mean_squared_error',\n",
    "    verbose=1,\n",
    "    n_jobs=-1\n",
    ")\n",
    "\n",
    "grid_search_xgb.fit(X_train, y_train)\n",
    "\n",
    "# Best pipeline\n",
    "best_pipeline = grid_search_xgb.best_estimator_\n",
    "y_pred = best_pipeline.predict(X_test)"
   ]
  },
  {
   "cell_type": "code",
   "execution_count": 8,
   "id": "aeb45565-2708-4e81-9b4f-85d376ef5cf4",
   "metadata": {
    "execution": {
     "iopub.execute_input": "2025-07-09T17:03:49.138210Z",
     "iopub.status.busy": "2025-07-09T17:03:49.137607Z",
     "iopub.status.idle": "2025-07-09T17:03:49.143405Z",
     "shell.execute_reply": "2025-07-09T17:03:49.142472Z",
     "shell.execute_reply.started": "2025-07-09T17:03:49.138174Z"
    }
   },
   "outputs": [
    {
     "name": "stdout",
     "output_type": "stream",
     "text": [
      "Best parameters: {'model__learning_rate': 0.1, 'model__max_depth': 3, 'model__n_estimators': 100}\n"
     ]
    }
   ],
   "source": [
    "print(\"Best parameters:\", grid_search_xgb.best_params_)"
   ]
  },
  {
   "cell_type": "code",
   "execution_count": 9,
   "id": "429efb68-c2ef-4fb6-9b1b-ad866da8159a",
   "metadata": {
    "execution": {
     "iopub.execute_input": "2025-07-09T17:03:49.145154Z",
     "iopub.status.busy": "2025-07-09T17:03:49.144588Z",
     "iopub.status.idle": "2025-07-09T17:03:49.153045Z",
     "shell.execute_reply": "2025-07-09T17:03:49.152361Z",
     "shell.execute_reply.started": "2025-07-09T17:03:49.145119Z"
    }
   },
   "outputs": [
    {
     "name": "stdout",
     "output_type": "stream",
     "text": [
      "Best parameters: {'model__learning_rate': 0.1, 'model__max_depth': 3, 'model__n_estimators': 100}\n",
      "Test R²: 0.8387042880058289\n",
      "Test RMSE: 35173.72473878762\n"
     ]
    }
   ],
   "source": [
    "from sklearn.metrics import mean_squared_error, r2_score\n",
    "import numpy as np\n",
    "\n",
    "print(\"Best parameters:\", grid_search_xgb.best_params_)\n",
    "\n",
    "print(\"Test R²:\", r2_score(y_test, y_pred))\n",
    "print(\"Test RMSE:\", np.sqrt(mean_squared_error(y_test, y_pred)))"
   ]
  },
  {
   "cell_type": "code",
   "execution_count": 10,
   "id": "3d0cec4c-dccd-4dc9-b6f1-5ad888cf2731",
   "metadata": {
    "execution": {
     "iopub.execute_input": "2025-07-09T17:03:49.155194Z",
     "iopub.status.busy": "2025-07-09T17:03:49.154589Z",
     "iopub.status.idle": "2025-07-09T17:03:49.171423Z",
     "shell.execute_reply": "2025-07-09T17:03:49.170555Z",
     "shell.execute_reply.started": "2025-07-09T17:03:49.155159Z"
    }
   },
   "outputs": [
    {
     "name": "stdout",
     "output_type": "stream",
     "text": [
      "Best CV neg RMSE: -35037.546484375\n",
      "Test RMSE: 35173.72473878762\n"
     ]
    }
   ],
   "source": [
    "from sklearn.metrics import mean_squared_error\n",
    "import numpy as np\n",
    "\n",
    "# Best CV score (already neg RMSE)\n",
    "print(\"Best CV neg RMSE:\", grid_search_xgb.best_score_)\n",
    "\n",
    "# Predict using best model\n",
    "y_pred = grid_search_xgb.predict(X_test)\n",
    "\n",
    "# Calculate RMSE\n",
    "test_rmse = np.sqrt(mean_squared_error(y_test, y_pred))\n",
    "print(\"Test RMSE:\", test_rmse)"
   ]
  },
  {
   "cell_type": "code",
   "execution_count": 11,
   "id": "69b7cca6-8022-4689-8bbd-565d5bd2e659",
   "metadata": {
    "execution": {
     "iopub.execute_input": "2025-07-09T17:03:49.172818Z",
     "iopub.status.busy": "2025-07-09T17:03:49.172336Z",
     "iopub.status.idle": "2025-07-09T17:03:49.195897Z",
     "shell.execute_reply": "2025-07-09T17:03:49.195145Z",
     "shell.execute_reply.started": "2025-07-09T17:03:49.172789Z"
    }
   },
   "outputs": [
    {
     "name": "stdout",
     "output_type": "stream",
     "text": [
      "Best CV neg RMSE: -35037.546484375\n",
      "Test R²: -35173.7265625\n"
     ]
    }
   ],
   "source": [
    "# Best cross-validated score (negative RMSE in this case)\n",
    "print(\"Best CV neg RMSE:\", grid_search_xgb.best_score_)\n",
    "\n",
    "# Test R² using the best pipeline\n",
    "print(\"Test R²:\", grid_search_xgb.score(X_test, y_test))"
   ]
  },
  {
   "cell_type": "code",
   "execution_count": 12,
   "id": "dce2905a-c198-41e8-8719-fb12ed98cec2",
   "metadata": {
    "execution": {
     "iopub.execute_input": "2025-07-09T17:03:55.002537Z",
     "iopub.status.busy": "2025-07-09T17:03:55.002041Z",
     "iopub.status.idle": "2025-07-09T17:03:55.071648Z",
     "shell.execute_reply": "2025-07-09T17:03:55.070896Z",
     "shell.execute_reply.started": "2025-07-09T17:03:55.002510Z"
    }
   },
   "outputs": [
    {
     "data": {
      "text/plain": [
       "['xgb_pipeline.joblib']"
      ]
     },
     "execution_count": 12,
     "metadata": {},
     "output_type": "execute_result"
    }
   ],
   "source": [
    "import joblib\n",
    "best_pipeline = grid_search_xgb.best_estimator_\n",
    "joblib.dump(best_pipeline, \"xgb_pipeline.joblib\")"
   ]
  },
  {
   "cell_type": "code",
   "execution_count": 13,
   "id": "e44435b4-2adb-4931-9a2a-411984af9856",
   "metadata": {
    "execution": {
     "iopub.execute_input": "2025-07-09T17:03:57.208481Z",
     "iopub.status.busy": "2025-07-09T17:03:57.208101Z",
     "iopub.status.idle": "2025-07-09T17:03:57.683630Z",
     "shell.execute_reply": "2025-07-09T17:03:57.682374Z",
     "shell.execute_reply.started": "2025-07-09T17:03:57.208447Z"
    }
   },
   "outputs": [],
   "source": [
    "import boto3\n",
    "\n",
    "s3 = boto3.client('s3')\n",
    "s3.upload_file(\"xgb_pipeline.joblib\", \"kaggle-housing-pipeline-data\", \"models/xgb_pipeline.joblib\")\n"
   ]
  },
  {
   "cell_type": "code",
   "execution_count": 16,
   "id": "48b86989-afd6-4a64-9553-296932517733",
   "metadata": {
    "execution": {
     "iopub.execute_input": "2025-07-09T17:06:55.349115Z",
     "iopub.status.busy": "2025-07-09T17:06:55.348655Z",
     "iopub.status.idle": "2025-07-09T17:06:55.729999Z",
     "shell.execute_reply": "2025-07-09T17:06:55.729316Z",
     "shell.execute_reply.started": "2025-07-09T17:06:55.349089Z"
    }
   },
   "outputs": [
    {
     "name": "stdout",
     "output_type": "stream",
     "text": [
      "683313688378.dkr.ecr.us-east-1.amazonaws.com/sagemaker-scikit-learn:1.2-1-cpu-py3\n"
     ]
    }
   ],
   "source": [
    "import sagemaker\n",
    "\n",
    "# Get compatible Scikit-learn image URI\n",
    "image_uri = sagemaker.image_uris.retrieve(\n",
    "    framework='sklearn',\n",
    "    region=sagemaker.Session().boto_region_name,\n",
    "    version='1.2-1'  # <-- MUST match your scikit-learn version\n",
    ")\n",
    "\n",
    "print(image_uri)"
   ]
  },
  {
   "cell_type": "code",
   "execution_count": null,
   "id": "2fa47ae1-7315-48f6-9bde-9f885f9319b8",
   "metadata": {},
   "outputs": [],
   "source": []
  }
 ],
 "metadata": {
  "kernelspec": {
   "display_name": "Python 3 (ipykernel)",
   "language": "python",
   "name": "python3"
  },
  "language_info": {
   "codemirror_mode": {
    "name": "ipython",
    "version": 3
   },
   "file_extension": ".py",
   "mimetype": "text/x-python",
   "name": "python",
   "nbconvert_exporter": "python",
   "pygments_lexer": "ipython3",
   "version": "3.12.9"
  }
 },
 "nbformat": 4,
 "nbformat_minor": 5
}
